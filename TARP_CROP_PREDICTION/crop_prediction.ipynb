{
 "cells": [
  {
   "cell_type": "code",
   "execution_count": 1,
   "metadata": {},
   "outputs": [
    {
     "name": "stdout",
     "output_type": "stream",
     "text": [
      "Requirement already satisfied: firebase-admin in c:\\users\\abhi1\\appdata\\local\\programs\\python\\python39\\lib\\site-packages (6.5.0)\n",
      "Requirement already satisfied: cachecontrol>=0.12.6 in c:\\users\\abhi1\\appdata\\local\\programs\\python\\python39\\lib\\site-packages (from firebase-admin) (0.14.1)\n",
      "Requirement already satisfied: google-api-python-client>=1.7.8 in c:\\users\\abhi1\\appdata\\local\\programs\\python\\python39\\lib\\site-packages (from firebase-admin) (2.151.0)\n",
      "Requirement already satisfied: google-cloud-storage>=1.37.1 in c:\\users\\abhi1\\appdata\\local\\programs\\python\\python39\\lib\\site-packages (from firebase-admin) (2.18.2)\n",
      "Requirement already satisfied: pyjwt>=2.5.0 in c:\\users\\abhi1\\appdata\\local\\programs\\python\\python39\\lib\\site-packages (from pyjwt[crypto]>=2.5.0->firebase-admin) (2.9.0)\n",
      "Requirement already satisfied: google-api-core<3.0.0dev,>=1.22.1 in c:\\users\\abhi1\\appdata\\local\\programs\\python\\python39\\lib\\site-packages (from google-api-core[grpc]<3.0.0dev,>=1.22.1; platform_python_implementation != \"PyPy\"->firebase-admin) (2.22.0)\n",
      "Requirement already satisfied: google-cloud-firestore>=2.9.1 in c:\\users\\abhi1\\appdata\\local\\programs\\python\\python39\\lib\\site-packages (from firebase-admin) (2.19.0)\n",
      "Requirement already satisfied: requests>=2.16.0 in c:\\users\\abhi1\\appdata\\local\\programs\\python\\python39\\lib\\site-packages (from cachecontrol>=0.12.6->firebase-admin) (2.32.3)\n",
      "Requirement already satisfied: msgpack<2.0.0,>=0.5.2 in c:\\users\\abhi1\\appdata\\local\\programs\\python\\python39\\lib\\site-packages (from cachecontrol>=0.12.6->firebase-admin) (1.1.0)\n",
      "Requirement already satisfied: googleapis-common-protos<2.0.dev0,>=1.56.2 in c:\\users\\abhi1\\appdata\\local\\programs\\python\\python39\\lib\\site-packages (from google-api-core<3.0.0dev,>=1.22.1->google-api-core[grpc]<3.0.0dev,>=1.22.1; platform_python_implementation != \"PyPy\"->firebase-admin) (1.65.0)\n",
      "Requirement already satisfied: protobuf!=3.20.0,!=3.20.1,!=4.21.0,!=4.21.1,!=4.21.2,!=4.21.3,!=4.21.4,!=4.21.5,<6.0.0.dev0,>=3.19.5 in c:\\users\\abhi1\\appdata\\local\\programs\\python\\python39\\lib\\site-packages (from google-api-core<3.0.0dev,>=1.22.1->google-api-core[grpc]<3.0.0dev,>=1.22.1; platform_python_implementation != \"PyPy\"->firebase-admin) (5.28.3)\n",
      "Requirement already satisfied: proto-plus<2.0.0dev,>=1.22.3 in c:\\users\\abhi1\\appdata\\local\\programs\\python\\python39\\lib\\site-packages (from google-api-core<3.0.0dev,>=1.22.1->google-api-core[grpc]<3.0.0dev,>=1.22.1; platform_python_implementation != \"PyPy\"->firebase-admin) (1.25.0)\n",
      "Requirement already satisfied: google-auth<3.0.dev0,>=2.14.1 in c:\\users\\abhi1\\appdata\\local\\programs\\python\\python39\\lib\\site-packages (from google-api-core<3.0.0dev,>=1.22.1->google-api-core[grpc]<3.0.0dev,>=1.22.1; platform_python_implementation != \"PyPy\"->firebase-admin) (2.26.2)\n",
      "Requirement already satisfied: grpcio<2.0dev,>=1.33.2 in c:\\users\\abhi1\\appdata\\local\\programs\\python\\python39\\lib\\site-packages (from google-api-core[grpc]<3.0.0dev,>=1.22.1; platform_python_implementation != \"PyPy\"->firebase-admin) (1.67.1)\n",
      "Requirement already satisfied: grpcio-status<2.0.dev0,>=1.33.2 in c:\\users\\abhi1\\appdata\\local\\programs\\python\\python39\\lib\\site-packages (from google-api-core[grpc]<3.0.0dev,>=1.22.1; platform_python_implementation != \"PyPy\"->firebase-admin) (1.67.1)\n",
      "Requirement already satisfied: httplib2<1.dev0,>=0.19.0 in c:\\users\\abhi1\\appdata\\local\\programs\\python\\python39\\lib\\site-packages (from google-api-python-client>=1.7.8->firebase-admin) (0.22.0)\n",
      "Requirement already satisfied: google-auth-httplib2<1.0.0,>=0.2.0 in c:\\users\\abhi1\\appdata\\local\\programs\\python\\python39\\lib\\site-packages (from google-api-python-client>=1.7.8->firebase-admin) (0.2.0)\n",
      "Requirement already satisfied: uritemplate<5,>=3.0.1 in c:\\users\\abhi1\\appdata\\local\\programs\\python\\python39\\lib\\site-packages (from google-api-python-client>=1.7.8->firebase-admin) (4.1.1)\n",
      "Requirement already satisfied: google-cloud-core<3.0.0dev,>=1.4.1 in c:\\users\\abhi1\\appdata\\local\\programs\\python\\python39\\lib\\site-packages (from google-cloud-firestore>=2.9.1->firebase-admin) (2.4.1)\n",
      "Requirement already satisfied: google-resumable-media>=2.7.2 in c:\\users\\abhi1\\appdata\\local\\programs\\python\\python39\\lib\\site-packages (from google-cloud-storage>=1.37.1->firebase-admin) (2.7.2)\n",
      "Requirement already satisfied: google-crc32c<2.0dev,>=1.0 in c:\\users\\abhi1\\appdata\\local\\programs\\python\\python39\\lib\\site-packages (from google-cloud-storage>=1.37.1->firebase-admin) (1.6.0)\n",
      "Requirement already satisfied: cryptography>=3.4.0 in c:\\users\\abhi1\\appdata\\local\\programs\\python\\python39\\lib\\site-packages (from pyjwt[crypto]>=2.5.0->firebase-admin) (42.0.5)\n",
      "Requirement already satisfied: cffi>=1.12 in c:\\users\\abhi1\\appdata\\local\\programs\\python\\python39\\lib\\site-packages (from cryptography>=3.4.0->pyjwt[crypto]>=2.5.0->firebase-admin) (1.16.0)\n",
      "Requirement already satisfied: cachetools<6.0,>=2.0.0 in c:\\users\\abhi1\\appdata\\local\\programs\\python\\python39\\lib\\site-packages (from google-auth<3.0.dev0,>=2.14.1->google-api-core<3.0.0dev,>=1.22.1->google-api-core[grpc]<3.0.0dev,>=1.22.1; platform_python_implementation != \"PyPy\"->firebase-admin) (5.3.2)\n",
      "Requirement already satisfied: pyasn1-modules>=0.2.1 in c:\\users\\abhi1\\appdata\\local\\programs\\python\\python39\\lib\\site-packages (from google-auth<3.0.dev0,>=2.14.1->google-api-core<3.0.0dev,>=1.22.1->google-api-core[grpc]<3.0.0dev,>=1.22.1; platform_python_implementation != \"PyPy\"->firebase-admin) (0.3.0)\n",
      "Requirement already satisfied: rsa<5,>=3.1.4 in c:\\users\\abhi1\\appdata\\local\\programs\\python\\python39\\lib\\site-packages (from google-auth<3.0.dev0,>=2.14.1->google-api-core<3.0.0dev,>=1.22.1->google-api-core[grpc]<3.0.0dev,>=1.22.1; platform_python_implementation != \"PyPy\"->firebase-admin) (4.9)\n",
      "Requirement already satisfied: pyparsing!=3.0.0,!=3.0.1,!=3.0.2,!=3.0.3,<4,>=2.4.2 in c:\\users\\abhi1\\appdata\\local\\programs\\python\\python39\\lib\\site-packages (from httplib2<1.dev0,>=0.19.0->google-api-python-client>=1.7.8->firebase-admin) (3.1.2)\n",
      "Requirement already satisfied: charset-normalizer<4,>=2 in c:\\users\\abhi1\\appdata\\local\\programs\\python\\python39\\lib\\site-packages (from requests>=2.16.0->cachecontrol>=0.12.6->firebase-admin) (3.3.2)\n",
      "Requirement already satisfied: idna<4,>=2.5 in c:\\users\\abhi1\\appdata\\local\\programs\\python\\python39\\lib\\site-packages (from requests>=2.16.0->cachecontrol>=0.12.6->firebase-admin) (3.6)\n",
      "Requirement already satisfied: urllib3<3,>=1.21.1 in c:\\users\\abhi1\\appdata\\local\\programs\\python\\python39\\lib\\site-packages (from requests>=2.16.0->cachecontrol>=0.12.6->firebase-admin) (2.1.0)\n",
      "Requirement already satisfied: certifi>=2017.4.17 in c:\\users\\abhi1\\appdata\\local\\programs\\python\\python39\\lib\\site-packages (from requests>=2.16.0->cachecontrol>=0.12.6->firebase-admin) (2023.11.17)\n",
      "Requirement already satisfied: pycparser in c:\\users\\abhi1\\appdata\\local\\programs\\python\\python39\\lib\\site-packages (from cffi>=1.12->cryptography>=3.4.0->pyjwt[crypto]>=2.5.0->firebase-admin) (2.21)\n",
      "Requirement already satisfied: pyasn1<0.6.0,>=0.4.6 in c:\\users\\abhi1\\appdata\\local\\programs\\python\\python39\\lib\\site-packages (from pyasn1-modules>=0.2.1->google-auth<3.0.dev0,>=2.14.1->google-api-core<3.0.0dev,>=1.22.1->google-api-core[grpc]<3.0.0dev,>=1.22.1; platform_python_implementation != \"PyPy\"->firebase-admin) (0.5.1)\n"
     ]
    }
   ],
   "source": [
    "# Install Firebase Admin SDK\n",
    "!pip install firebase-admin\n"
   ]
  },
  {
   "cell_type": "code",
   "execution_count": 2,
   "metadata": {},
   "outputs": [],
   "source": [
    "\n",
    "import firebase_admin\n",
    "from firebase_admin import credentials, firestore\n",
    "import pandas as pd\n",
    "import requests\n",
    "from sklearn.model_selection import train_test_split\n",
    "from sklearn.ensemble import RandomForestClassifier\n",
    "from sklearn.metrics import accuracy_score\n",
    "import os\n",
    "\n",
    "# Initialize Firebase\n",
    "cred = credentials.Certificate(r\"C:\\Users\\abhi1\\Desktop\\Machine Learning\\TARP_CROP_PREDICTION\\tarp-eec36-firebase-adminsdk-81oum-fb569f5824.json\")  # Path to Firebase service account key\n",
    "firebase_admin.initialize_app(cred)\n",
    "db = firestore.client()\n"
   ]
  },
  {
   "cell_type": "code",
   "execution_count": 3,
   "metadata": {},
   "outputs": [
    {
     "name": "stdout",
     "output_type": "stream",
     "text": [
      "Model Accuracy: 91.36%\n"
     ]
    },
    {
     "name": "stderr",
     "output_type": "stream",
     "text": [
      "c:\\Users\\abhi1\\AppData\\Local\\Programs\\Python\\Python39\\lib\\site-packages\\sklearn\\base.py:493: UserWarning: X does not have valid feature names, but RandomForestClassifier was fitted with feature names\n",
      "  warnings.warn(\n"
     ]
    },
    {
     "name": "stdout",
     "output_type": "stream",
     "text": [
      "Prediction and advice have been updated to Firebase.\n"
     ]
    }
   ],
   "source": [
    "\n",
    "# Load dataset and train model\n",
    "file_path = r'C:\\Users\\abhi1\\Desktop\\Machine Learning\\TARP_CROP_PREDICTION\\Modified_Crop_recommendation.csv'  # Path to your dataset file\n",
    "crop_data_modified = pd.read_csv(file_path)\n",
    "X = crop_data_modified[['Temperature', 'Humidity', 'Rainfall', 'soil_moisture']]\n",
    "y = crop_data_modified['Crop']\n",
    "X_train, X_test, y_train, y_test = train_test_split(X, y, test_size=0.2, random_state=42)\n",
    "\n",
    "# Train RandomForest model\n",
    "model = RandomForestClassifier(n_estimators=100, random_state=42)\n",
    "model.fit(X_train, y_train)\n",
    "accuracy = accuracy_score(y_test, model.predict(X_test))\n",
    "print(f\"Model Accuracy: {accuracy * 100:.2f}%\")\n",
    "\n",
    "# Function to fetch rainfall data from OpenWeatherMap API\n",
    "def fetch_rainfall(api_key, lat, lon):\n",
    "    url = f\"http://api.openweathermap.org/data/2.5/weather?lat={lat}&lon={lon}&appid={api_key}\"\n",
    "    response = requests.get(url)\n",
    "    data = response.json()\n",
    "    rainfall = data.get('rain', {}).get('1h', 0)  # Rainfall in the last 1 hour\n",
    "    return rainfall\n",
    "\n",
    "# Function to give advice to farmers based on conditions\n",
    "def farmer_advice(temperature, soil_moisture, crop_type):\n",
    "    crop_temp_ranges = {\n",
    "        'rice': (20, 30),\n",
    "        'wheat': (10, 25),\n",
    "        # Add more crops and their ideal temperature ranges\n",
    "    }\n",
    "    moisture_threshold = 30\n",
    "    advice = []\n",
    "    if soil_moisture < moisture_threshold:\n",
    "        advice.append(\"Soil moisture is low, please water the crops.\")\n",
    "    ideal_temp_range = crop_temp_ranges.get(crop_type, (0, 100))\n",
    "    if temperature > ideal_temp_range[1]:\n",
    "        advice.append(\"Temperature is high, use sprinklers to cool down the crops.\")\n",
    "    return advice\n",
    "\n",
    "# Function to collect data, predict crop, and send advice to Firebase\n",
    "def predict_and_update_firebase(api_key, lat, lon):\n",
    "    # Fetch environmental data from Firebase\n",
    "    doc_ref = db.collection(\"farm_conditions\").document(\"latest\")\n",
    "    doc = doc_ref.get()\n",
    "    if doc.exists:\n",
    "        data = doc.to_dict()\n",
    "        temperature = data.get(\"temperature\")\n",
    "        humidity = data.get(\"humidity\")\n",
    "        soil_moisture = data.get(\"soil_moisture\")\n",
    "    else:\n",
    "        print(\"No farm data found.\")\n",
    "        return\n",
    "\n",
    "    # Fetch rainfall from OpenWeatherMap\n",
    "    rainfall = fetch_rainfall(api_key, lat, lon)\n",
    "\n",
    "    # Predict crop\n",
    "    predicted_crop = model.predict([[temperature, humidity, rainfall, soil_moisture]])[0]\n",
    "\n",
    "    # Get advice\n",
    "    advice = farmer_advice(temperature, soil_moisture, predicted_crop)\n",
    "\n",
    "    # Update Firebase with prediction and advice\n",
    "    results_ref = db.collection(\"farm_conditions\").document(\"latest\")\n",
    "    results_ref.set({\n",
    "        \"recommended_crop\": predicted_crop,\n",
    "        \"advice\": advice,\n",
    "        \"timestamp\": firestore.SERVER_TIMESTAMP\n",
    "    })\n",
    "    print(\"Prediction and advice have been updated to Firebase.\")\n",
    "\n",
    "# Set up OpenWeatherMap API key and location details\n",
    "api_key = \"104df45900851af1f47f3c5038342f90\"  # Replace with your actual API key\n",
    "latitude = 12.9716  # Replace with farm's latitude\n",
    "longitude = 77.5946  # Replace with farm's longitude\n",
    "\n",
    "# Call the function to predict and update Firebase\n",
    "predict_and_update_firebase(api_key, latitude, longitude)\n"
   ]
  }
 ],
 "metadata": {
  "kernelspec": {
   "display_name": "Python 3",
   "language": "python",
   "name": "python3"
  },
  "language_info": {
   "codemirror_mode": {
    "name": "ipython",
    "version": 3
   },
   "file_extension": ".py",
   "mimetype": "text/x-python",
   "name": "python",
   "nbconvert_exporter": "python",
   "pygments_lexer": "ipython3",
   "version": "3.9.9"
  }
 },
 "nbformat": 4,
 "nbformat_minor": 2
}
